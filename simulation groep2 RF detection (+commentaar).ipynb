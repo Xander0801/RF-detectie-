{
 "cells": [
  {
   "cell_type": "markdown",
   "id": "62998a15-14f4-4cd9-bc0c-9aed269fa407",
   "metadata": {},
   "source": [
    "**Simulation groep 2 - RF detection**"
   ]
  },
  {
   "cell_type": "markdown",
   "id": "77eae7a7",
   "metadata": {},
   "source": [
    "De code simuleert hoe drie meetpunten (“Pis” — denk aan drie Raspberry Pi’s of antennes) een zender (“hotspot”) kunnen lokaliseren op basis van het ontvangen RF-signaal (RSSI).\n",
    "Met ruis en signaalverzwakking wordt berekend hoe goed (of slecht) de schatting van de positie is."
   ]
  },
  {
   "cell_type": "code",
   "execution_count": 13,
   "id": "768b4384-e667-44c6-9619-c6ae808e2529",
   "metadata": {},
   "outputs": [],
   "source": [
    "# Imports\n",
    "import numpy as np\n",
    "import matplotlib.pyplot as plt\n",
    "import pandas as pd\n",
    "import math\n",
    "from IPython.display import display"
   ]
  },
  {
   "cell_type": "markdown",
   "id": "f4f5fd17",
   "metadata": {},
   "source": [
    "# Wat gebeurt bij def rssi_from_distance:\n",
    "\n",
    "p_tx_dbm: zendvermogen van de raspberry pi's (in dBm)\n",
    "n: path-loss exponent (hoe snel het signaal afneemt met afstand, typisch 2–4, standaard kiezen wij voor 2.2 maar dat is in te stellen bij de sliders)\n",
    "noise_db: standaardafwijking van de meetruis\n",
    "\n",
    "De formule:\n",
    "    RSSI = Ptx - 10n log (d) + ruis\n",
    "\n",
    "geeft de signaalsterkte op afstand d"
   ]
  },
  {
   "cell_type": "code",
   "execution_count": 14,
   "id": "b29ee0c3-4787-4983-a610-d06621f7a7eb",
   "metadata": {},
   "outputs": [],
   "source": [
    "def rssi_from_distance(d, p_tx_dbm= -30.0, n=2.0, noise_db=0.0):\n",
    "    d = np.maximum(d, 1e-6)\n",
    "    mean = p_tx_dbm - 10.0 * n * np.log10(d)\n",
    "    noise = np.random.normal(0.0, noise_db, size=np.shape(d))\n",
    "    return mean + noise"
   ]
  },
  {
   "cell_type": "markdown",
   "id": "fc9115ca",
   "metadata": {},
   "source": [
    "# Wat gebeurt bij def distance_from_rssi:\n",
    "Omgekeerde van de vorige formule:\n",
    "    d = 10 ^ ((Ptx - RSSI)/10n)\n",
    "Zo schat je de afstand uit de gemeten RSSI"
   ]
  },
  {
   "cell_type": "code",
   "execution_count": 15,
   "id": "6c200388-b89d-40c7-9f75-7810110d75ab",
   "metadata": {},
   "outputs": [],
   "source": [
    "def distance_from_rssi(rssi_dbm, p_tx_dbm=-30.0, n=2.0):\n",
    "    return 10.0 ** ((p_tx_dbm - rssi_dbm) / (10.0 * n))"
   ]
  },
  {
   "cell_type": "markdown",
   "id": "d2fa8476",
   "metadata": {},
   "source": [
    "# Wat gebeurt bij def multilateration_linear:\n",
    "Doel: bereken de (x, y)-positie van de hotspot met 3 of meer referentiepunten.\n",
    "Formule gebaseerd op:\n",
    "    (x-xi)^2+(y-yi)^2=di^2\n",
    "    "
   ]
  },
  {
   "cell_type": "code",
   "execution_count": 16,
   "id": "3fb766fc-4d68-4205-9611-3db33084ffea",
   "metadata": {},
   "outputs": [],
   "source": [
    "def multilateration_linear(positions, distances):\n",
    "    positions = np.asarray(positions, dtype=float)\n",
    "    distances = np.asarray(distances, dtype=float)\n",
    "    N = positions.shape[0]\n",
    "    if N < 3:\n",
    "        raise ValueError(\"Minimaal 3 referenties nodig\")\n",
    "    x1, y1 = positions[0]\n",
    "    d1 = distances[0]\n",
    "    A = []\n",
    "    b = []\n",
    "    for i in range(1, N):\n",
    "        xi, yi = positions[i]\n",
    "        di = distances[i]\n",
    "        Ai = [2*(xi - x1), 2*(yi - y1)]\n",
    "        bi = (xi**2 + yi**2 - di**2) - (x1**2 + y1**2 - d1**2)\n",
    "        A.append(Ai)\n",
    "        b.append(bi)\n",
    "    A = np.array(A)\n",
    "    b = np.array(b)\n",
    "    sol, residuals, rank, s = np.linalg.lstsq(A, b, rcond=None)\n",
    "    return sol"
   ]
  },
  {
   "cell_type": "markdown",
   "id": "ec6b6694",
   "metadata": {},
   "source": [
    "# Wat gebeurt bij def simulate_and_plot_once:\n",
    "voert één simulatie uit van een RF-lokalisatie met drie meetpunten (“Pis”) en een zender (“hotspot”).\n",
    "\n",
    "Stappen:\n",
    "    Berekent de echte afstand tussen elke Pi en de hotspot.\n",
    "    Simuleert RSSI-metingen (ontvangen signaalsterkte) op basis van die afstanden, het zendvermogen en wat ruis.\n",
    "    Schat de afstand terug uit de gemeten RSSI-waarden.\n",
    "    Voert een trilateratie uit om te bepalen waar de zender zich waarschijnlijk bevindt.\n",
    "    Vergelijkt de geschatte positie met de echte positie en berekent de foutafstand.\n",
    "    Toont de resultaten in een tabel en maakt een grafiek met:\n",
    "        De drie Pis\n",
    "        De echte hotspot\n",
    "        De geschatte positie\n",
    "        Cirkels die de geschatte afstanden voorstellen\n",
    "    Print de belangrijkste parameters (zendvermogen, path-loss, ruis) en de fout in meters.\n"
   ]
  },
  {
   "cell_type": "code",
   "execution_count": 17,
   "id": "3cc42ece-9b9c-424d-915c-f4ba4bca1465",
   "metadata": {},
   "outputs": [],
   "source": [
    "def simulate_and_plot_once(pis, hotspot, p_tx_dbm=-30.0, path_loss_n=2.0, noise_db=2.0, fname=None):\n",
    "    # Bereken echte afstanden tussen Pis en hotspot\n",
    "    true_distances = np.linalg.norm(pis - hotspot, axis=1)\n",
    "    \n",
    "    # Simuleer gemeten RSSI-waarden (met ruis)\n",
    "    measured_rssi = rssi_from_distance(true_distances, p_tx_dbm=p_tx_dbm, n=path_loss_n, noise_db=noise_db)\n",
    "    \n",
    "    # Schat afstanden uit RSSI\n",
    "    estimated_distances = distance_from_rssi(measured_rssi, p_tx_dbm=p_tx_dbm, n=path_loss_n)\n",
    "    \n",
    "    # Bepaal geschatte positie via trilateratie\n",
    "    est_pos = multilateration_linear(pis, estimated_distances)\n",
    "    \n",
    "    # Bereken fout (afstand tussen echt en geschat punt)\n",
    "    est_error = np.linalg.norm(est_pos - hotspot)\n",
    "\n",
    "    # Resultaten in tabelvorm\n",
    "    df = pd.DataFrame({\n",
    "        \"Pi\": [\"Pi1\",\"Pi2\",\"Pi3\"],\n",
    "        \"x (m)\": np.round(pis[:,0],3),\n",
    "        \"y (m)\": np.round(pis[:,1],3),\n",
    "        \"true_distance (m)\": np.round(true_distances,3),\n",
    "        \"measured_RSSI (dBm)\": np.round(measured_rssi,3),\n",
    "        \"estimated_distance (m)\": np.round(estimated_distances,3)\n",
    "    })\n",
    "\n",
    "    # Toon tabel (werkt in Jupyter of standaard weergave)\n",
    "    try:\n",
    "        from caas_jupyter_tools import display_dataframe_to_user\n",
    "        display_dataframe_to_user(\"RF measurements\", df)\n",
    "    except Exception:\n",
    "        display(df)\n",
    "\n",
    "    # Plot posities en schatting\n",
    "    fig, ax = plt.subplots(figsize=(6,6))\n",
    "    ax.set_aspect('equal')\n",
    "    ax.scatter(pis[:,0], pis[:,1], s=80)\n",
    "    for i, (xx,yy) in enumerate(pis):\n",
    "        ax.annotate(f\"Pi{i+1}\\n({xx:.1f},{yy:.1f})\", (xx,yy), textcoords=\"offset points\", xytext=(4,4))\n",
    "    ax.scatter([hotspot[0]], [hotspot[1]], marker='x', s=100)\n",
    "    ax.annotate(f\"Hotspot true\\n({hotspot[0]:.1f},{hotspot[1]:.1f})\", (hotspot[0],hotspot[1]), textcoords=\"offset points\", xytext=(4,-12))\n",
    "    ax.scatter([est_pos[0]], [est_pos[1]], marker='o', s=80)\n",
    "    ax.annotate(f\"Est. ({est_pos[0]:.2f},{est_pos[1]:.2f})\\n err={est_error:.2f} m\", (est_pos[0], est_pos[1]), textcoords=\"offset points\", xytext=(6,6))\n",
    "\n",
    "    # Cirkels rond Pis op basis van geschatte afstand\n",
    "    theta = np.linspace(0, 2*np.pi, 200)\n",
    "    for i in range(3):\n",
    "        r = estimated_distances[i]\n",
    "        cx, cy = pis[i]\n",
    "        ax.plot(cx + r*np.cos(theta), cy + r*np.sin(theta))\n",
    "\n",
    "    # Opmaak van de plot\n",
    "    ax.set_xlabel(\"x (m)\")\n",
    "    ax.set_ylabel(\"y (m)\")\n",
    "    ax.set_title(\"Simulatie: RSSI-based trilateratie (single run)\")\n",
    "    ax.grid(True)\n",
    "\n",
    "    # Opslaan als bestand (optioneel)\n",
    "    if fname:\n",
    "        fig.savefig(fname, dpi=150)\n",
    "        print(f\"Grafiek opgeslagen naar: {fname}\")\n",
    "    plt.show()\n",
    "\n",
    "    # Print resultaten\n",
    "    print(f\"P_tx = {p_tx_dbm} dBm, n = {path_loss_n}, noise = {noise_db} dB\")\n",
    "    print(f\"True position: ({hotspot[0]:.3f}, {hotspot[1]:.3f})\")\n",
    "    print(f\"Estimated: ({est_pos[0]:.3f}, {est_pos[1]:.3f}) — fout: {est_error:.3f} m\")\n"
   ]
  },
  {
   "cell_type": "markdown",
   "id": "b645fe7e",
   "metadata": {},
   "source": [
    "In dit deel van de code wordt een interactieve gebruikersinterface gebouwd met behulp van het pakket ipywidgets.\n",
    "Met deze sliders kun je zelf spelen met de parameters van de RF-simulatie en direct zien hoe dat de positiebepaling beïnvloedt.\n",
    "\n",
    "Je kunt aanpassen:\n",
    "de x- en y-coördinaten van drie Pis (ontvangers),\n",
    "de positie van de hotspot (de zender),\n",
    "het zendvermogen in dBm (P_tx),\n",
    "de path-loss exponent (n), die bepaalt hoe snel het signaal verzwakt met afstand,\n",
    "en de ruis (noise σ), die meetonzekerheid simuleert.\n",
    "\n",
    "Elke keer dat je een slider beweegt, wordt de functie\n",
    "simulate_and_plot_once() opnieuw uitgevoerd.\n",
    "\n",
    "Die functie berekent:\n",
    "de echte afstanden tussen de Pis en de hotspot,\n",
    "de gesimuleerde RSSI-metingen,\n",
    "de geschatte afstanden via het model,\n",
    "en de berekende positie van de hotspot met behulp van trilateratie.\n",
    "\n",
    "Daarna wordt meteen een grafiek getoond waarin:\n",
    "de posities van de Pis,\n",
    "de echte hotspot,\n",
    "en de geschatte positie met foutmarge zichtbaar zijn."
   ]
  },
  {
   "cell_type": "code",
   "execution_count": 18,
   "id": "ab79d598-0a2e-4755-bb55-628bc7477a79",
   "metadata": {
    "scrolled": true
   },
   "outputs": [
    {
     "data": {
      "application/vnd.jupyter.widget-view+json": {
       "model_id": "738a97a888564a45b503120da16bd80f",
       "version_major": 2,
       "version_minor": 0
      },
      "text/plain": [
       "VBox(children=(HBox(children=(VBox(children=(FloatSlider(value=0.0, description='Pi1 x', layout=Layout(width='…"
      ]
     },
     "metadata": {},
     "output_type": "display_data"
    },
    {
     "data": {
      "application/vnd.jupyter.widget-view+json": {
       "model_id": "4b3fa860cae34e53bce2e7839ed259e5",
       "version_major": 2,
       "version_minor": 0
      },
      "text/plain": [
       "Output()"
      ]
     },
     "metadata": {},
     "output_type": "display_data"
    },
    {
     "name": "stdout",
     "output_type": "stream",
     "text": [
      "ipywidgets beschikbaar — interactieve sliders getoond.\n"
     ]
    }
   ],
   "source": [
    "try:\n",
    "    import ipywidgets as widgets\n",
    "    from ipywidgets import FloatSlider, interact, VBox, HBox, Layout\n",
    "\n",
    "    # Stel een standaard breedte in voor de sliders\n",
    "    layout = Layout(width='320px')\n",
    "\n",
    "    # Sliders voor de coördinaten van de drie Pis\n",
    "    pi_slider_x1 = FloatSlider(value=0.0, min=-20.0, max=20.0, step=0.5, description='Pi1 x', layout=layout)\n",
    "    pi_slider_y1 = FloatSlider(value=0.0, min=-20.0, max=20.0, step=0.5, description='Pi1 y', layout=layout)\n",
    "    pi_slider_x2 = FloatSlider(value=10.0, min=-20.0, max=20.0, step=0.5, description='Pi2 x', layout=layout)\n",
    "    pi_slider_y2 = FloatSlider(value=0.0, min=-20.0, max=20.0, step=0.5, description='Pi2 y', layout=layout)\n",
    "    pi_slider_x3 = FloatSlider(value=5.0, min=-20.0, max=20.0, step=0.5, description='Pi3 x', layout=layout)\n",
    "    pi_slider_y3 = FloatSlider(value=8.0, min=-20.0, max=20.0, step=0.5, description='Pi3 y', layout=layout)\n",
    "\n",
    "    # Sliders voor de positie van de hotspot\n",
    "    hot_x = FloatSlider(value=4.0, min=-20.0, max=20.0, step=0.5, description='Hotspot x', layout=layout)\n",
    "    hot_y = FloatSlider(value=3.0, min=-20.0, max=20.0, step=0.5, description='Hotspot y', layout=layout)\n",
    "\n",
    "    # Sliders voor zendvermogen, path-loss exponent en ruis\n",
    "    p_tx_slider = FloatSlider(value=-30.0, min=-90.0, max=0.0, step=1.0, description='P_tx (dBm)', layout=layout)\n",
    "    n_slider = FloatSlider(value=2.0, min=1.0, max=4.5, step=0.1, description='path-loss n', layout=layout)\n",
    "    noise_slider = FloatSlider(value=2.0, min=0.0, max=12.0, step=0.1, description='noise σ (dB)', layout=layout)\n",
    "\n",
    "    # Functie die bij elke wijziging van een slider opnieuw de simulatie uitvoert\n",
    "    def interactive_sim(x1,y1,x2,y2,x3,y3,hx,hy,p_tx_dbm,path_loss_n,noise_db):\n",
    "        pis = np.array([[x1,y1],[x2,y2],[x3,y3]])     # Posities van de Pis\n",
    "        hotspot = np.array([hx,hy])                   # Positie van de hotspot\n",
    "        simulate_and_plot_once(pis, hotspot, p_tx_dbm=p_tx_dbm, path_loss_n=path_loss_n, noise_db=noise_db)\n",
    "\n",
    "    # Bouw de lay-out van de interface met twee kolommen: Pi-coördinaten links, parameters rechts\n",
    "    ui = VBox([\n",
    "        HBox([\n",
    "            VBox([pi_slider_x1, pi_slider_y1, pi_slider_x2, pi_slider_y2, pi_slider_x3, pi_slider_y3]),\n",
    "            VBox([hot_x, hot_y, p_tx_slider, n_slider, noise_slider])\n",
    "        ])\n",
    "    ])\n",
    "\n",
    "    # Koppel de sliders aan de simulatiefunctie\n",
    "    out = widgets.interactive_output(interactive_sim, {\n",
    "        'x1': pi_slider_x1, 'y1': pi_slider_y1,\n",
    "        'x2': pi_slider_x2, 'y2': pi_slider_y2,\n",
    "        'x3': pi_slider_x3, 'y3': pi_slider_y3,\n",
    "        'hx': hot_x, 'hy': hot_y,\n",
    "        'p_tx_dbm': p_tx_slider, 'path_loss_n': n_slider, 'noise_db': noise_slider\n",
    "    })\n",
    "\n",
    "    # Toon de sliders en de uitvoer (grafiek)\n",
    "    display(ui, out)\n",
    "    print(\"ipywidgets beschikbaar — interactieve sliders getoond.\")\n",
    "\n",
    "# Als ipywidgets niet werkt (dan moet deze package nog geinstalleerd worden), voer één vaste simulatie uit\n",
    "except Exception as e:\n",
    "    print(\"ipywidgets niet beschikbaar in deze omgeving — voer een single-run voorbeeld uit.\")\n",
    "    \n",
    "    # Standaardposities voor drie Pis en een hotspot\n",
    "    pis = np.array([[0.0,0.0],[10.0,0.0],[5.0,8.0]])\n",
    "    hotspot = np.array([4.0,3.0])\n",
    "    out_file = \"/mnt/data/rf_simulation_example.png\"\n",
    "\n",
    "    # Simuleer één run en sla het resultaat op als afbeelding\n",
    "    simulate_and_plot_once(pis, hotspot, p_tx_dbm=-30.0, path_loss_n=2.0, noise_db=2.0, fname=out_file)\n",
    "    print(f\"[Download de afbeelding](/mnt/data/rf_simulation_example.png)\")\n"
   ]
  }
 ],
 "metadata": {
  "kernelspec": {
   "display_name": "base",
   "language": "python",
   "name": "python3"
  },
  "language_info": {
   "codemirror_mode": {
    "name": "ipython",
    "version": 3
   },
   "file_extension": ".py",
   "mimetype": "text/x-python",
   "name": "python",
   "nbconvert_exporter": "python",
   "pygments_lexer": "ipython3",
   "version": "3.12.7"
  }
 },
 "nbformat": 4,
 "nbformat_minor": 5
}

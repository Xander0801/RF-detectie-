{
 "cells": [
  {
   "cell_type": "markdown",
   "id": "62998a15-14f4-4cd9-bc0c-9aed269fa407",
   "metadata": {},
   "source": [
    "**Simulation groep 2 - RF detection**"
   ]
  },
  {
   "cell_type": "code",
   "execution_count": 2,
   "id": "768b4384-e667-44c6-9619-c6ae808e2529",
   "metadata": {},
   "outputs": [],
   "source": [
    "# Imports\n",
    "import numpy as np\n",
    "import matplotlib.pyplot as plt\n",
    "import pandas as pd\n",
    "import math\n",
    "from IPython.display import display"
   ]
  },
  {
   "cell_type": "code",
   "execution_count": 3,
   "id": "b29ee0c3-4787-4983-a610-d06621f7a7eb",
   "metadata": {},
   "outputs": [],
   "source": [
    "def rssi_from_distance(d, p_tx_dbm= -30.0, n=2.0, noise_db=0.0):\n",
    "    d = np.maximum(d, 1e-6)\n",
    "    mean = p_tx_dbm - 10.0 * n * np.log10(d)\n",
    "    noise = np.random.normal(0.0, noise_db, size=np.shape(d))\n",
    "    return mean + noise"
   ]
  },
  {
   "cell_type": "code",
   "execution_count": 4,
   "id": "6c200388-b89d-40c7-9f75-7810110d75ab",
   "metadata": {},
   "outputs": [],
   "source": [
    "def distance_from_rssi(rssi_dbm, p_tx_dbm=-30.0, n=2.0):\n",
    "    return 10.0 ** ((p_tx_dbm - rssi_dbm) / (10.0 * n))"
   ]
  },
  {
   "cell_type": "code",
   "execution_count": 5,
   "id": "3fb766fc-4d68-4205-9611-3db33084ffea",
   "metadata": {},
   "outputs": [],
   "source": [
    "def multilateration_linear(positions, distances):\n",
    "    positions = np.asarray(positions, dtype=float)\n",
    "    distances = np.asarray(distances, dtype=float)\n",
    "    N = positions.shape[0]\n",
    "    if N < 3:\n",
    "        raise ValueError(\"Minimaal 3 referenties nodig\")\n",
    "    x1, y1 = positions[0]\n",
    "    d1 = distances[0]\n",
    "    A = []\n",
    "    b = []\n",
    "    for i in range(1, N):\n",
    "        xi, yi = positions[i]\n",
    "        di = distances[i]\n",
    "        Ai = [2*(xi - x1), 2*(yi - y1)]\n",
    "        bi = (xi**2 + yi**2 - di**2) - (x1**2 + y1**2 - d1**2)\n",
    "        A.append(Ai)\n",
    "        b.append(bi)\n",
    "    A = np.array(A)\n",
    "    b = np.array(b)\n",
    "    sol, residuals, rank, s = np.linalg.lstsq(A, b, rcond=None)\n",
    "    return sol"
   ]
  },
  {
   "cell_type": "code",
   "execution_count": 6,
   "id": "3cc42ece-9b9c-424d-915c-f4ba4bca1465",
   "metadata": {},
   "outputs": [],
   "source": [
    "def simulate_and_plot_once(pis, hotspot, p_tx_dbm=-30.0, path_loss_n=2.0, noise_db=2.0, fname=None):\n",
    "    true_distances = np.linalg.norm(pis - hotspot, axis=1)\n",
    "    measured_rssi = rssi_from_distance(true_distances, p_tx_dbm=p_tx_dbm, n=path_loss_n, noise_db=noise_db)\n",
    "    estimated_distances = distance_from_rssi(measured_rssi, p_tx_dbm=p_tx_dbm, n=path_loss_n)\n",
    "    est_pos = multilateration_linear(pis, estimated_distances)\n",
    "    est_error = np.linalg.norm(est_pos - hotspot)\n",
    "\n",
    "    df = pd.DataFrame({\n",
    "        \"Pi\": [\"Pi1\",\"Pi2\",\"Pi3\"],\n",
    "        \"x (m)\": np.round(pis[:,0],3),\n",
    "        \"y (m)\": np.round(pis[:,1],3),\n",
    "        \"true_distance (m)\": np.round(true_distances,3),\n",
    "        \"measured_RSSI (dBm)\": np.round(measured_rssi,3),\n",
    "        \"estimated_distance (m)\": np.round(estimated_distances,3)\n",
    "    })\n",
    "\n",
    "    try:\n",
    "        from caas_jupyter_tools import display_dataframe_to_user\n",
    "        display_dataframe_to_user(\"RF measurements\", df)\n",
    "    except Exception:\n",
    "        display(df)\n",
    "\n",
    "    fig, ax = plt.subplots(figsize=(6,6))\n",
    "    ax.set_aspect('equal', adjustable='box')\n",
    "    ax.scatter(pis[:,0], pis[:,1], s=80)\n",
    "    for i, (xx,yy) in enumerate(pis):\n",
    "        ax.annotate(f\"Pi{i+1}\\n({xx:.1f},{yy:.1f})\", (xx,yy), textcoords=\"offset points\", xytext=(4,4))\n",
    "    ax.scatter([hotspot[0]], [hotspot[1]], marker='x', s=100)\n",
    "    ax.annotate(f\"Hotspot true\\n({hotspot[0]:.1f},{hotspot[1]:.1f})\", (hotspot[0],hotspot[1]), textcoords=\"offset points\", xytext=(4,-12))\n",
    "    ax.scatter([est_pos[0]], [est_pos[1]], marker='o', s=80)\n",
    "    ax.annotate(f\"Est. ({est_pos[0]:.2f},{est_pos[1]:.2f})\\n err={est_error:.2f} m\", (est_pos[0], est_pos[1]), textcoords=\"offset points\", xytext=(6,6))\n",
    "    theta = np.linspace(0, 2*np.pi, 200)\n",
    "    for i in range(3):\n",
    "        r = estimated_distances[i]\n",
    "        cx, cy = pis[i]\n",
    "        ax.plot(cx + r*np.cos(theta), cy + r*np.sin(theta))\n",
    "    ax.set_xlabel(\"x (m)\")\n",
    "    ax.set_ylabel(\"y (m)\")\n",
    "    ax.set_title(\"Simulatie: RSSI-based trilateratie (single run)\")\n",
    "    ax.grid(True)\n",
    "    if fname:\n",
    "        fig.savefig(fname, dpi=150)\n",
    "        print(f\"Grafiek opgeslagen naar: {fname}\")\n",
    "    plt.show()\n",
    "\n",
    "    print(f\"Transmit power P_tx = {p_tx_dbm} dBm, path-loss exponent n = {path_loss_n}, noise std = {noise_db} dB\")\n",
    "    print(f\"True hotspot position: ({hotspot[0]:.3f}, {hotspot[1]:.3f})\")\n",
    "    print(f\"Estimated position: ({est_pos[0]:.3f}, {est_pos[1]:.3f})  —  fout: {est_error:.3f} m\")\n"
   ]
  },
  {
   "cell_type": "code",
   "execution_count": 12,
   "id": "ab79d598-0a2e-4755-bb55-628bc7477a79",
   "metadata": {
    "scrolled": true
   },
   "outputs": [
    {
     "data": {
      "application/vnd.jupyter.widget-view+json": {
       "model_id": "852f0a5e479341a78f740cabb0c7d0d3",
       "version_major": 2,
       "version_minor": 0
      },
      "text/plain": [
       "VBox(children=(HBox(children=(VBox(children=(FloatSlider(value=0.0, description='Pi1 x', layout=Layout(width='…"
      ]
     },
     "metadata": {},
     "output_type": "display_data"
    },
    {
     "data": {
      "application/vnd.jupyter.widget-view+json": {
       "model_id": "7873461e07dd418387c77e8daf1ae562",
       "version_major": 2,
       "version_minor": 0
      },
      "text/plain": [
       "Output()"
      ]
     },
     "metadata": {},
     "output_type": "display_data"
    },
    {
     "name": "stdout",
     "output_type": "stream",
     "text": [
      "ipywidgets beschikbaar — interactieve sliders getoond.\n"
     ]
    }
   ],
   "source": [
    "try:\n",
    "    import ipywidgets as widgets\n",
    "    from ipywidgets import FloatSlider, interact, VBox, HBox, Layout\n",
    "    # build interactive UI (same as earlier)\n",
    "    layout = Layout(width='320px')\n",
    "    pi_slider_x1 = FloatSlider(value=0.0, min=-20.0, max=20.0, step=0.5, description='Pi1 x', layout=layout)\n",
    "    pi_slider_y1 = FloatSlider(value=0.0, min=-20.0, max=20.0, step=0.5, description='Pi1 y', layout=layout)\n",
    "    pi_slider_x2 = FloatSlider(value=10.0, min=-20.0, max=20.0, step=0.5, description='Pi2 x', layout=layout)\n",
    "    pi_slider_y2 = FloatSlider(value=0.0, min=-20.0, max=20.0, step=0.5, description='Pi2 y', layout=layout)\n",
    "    pi_slider_x3 = FloatSlider(value=5.0, min=-20.0, max=20.0, step=0.5, description='Pi3 x', layout=layout)\n",
    "    pi_slider_y3 = FloatSlider(value=8.0, min=-20.0, max=20.0, step=0.5, description='Pi3 y', layout=layout)\n",
    "\n",
    "    hot_x = FloatSlider(value=4.0, min=-20.0, max=20.0, step=0.5, description='Hotspot x', layout=layout)\n",
    "    hot_y = FloatSlider(value=3.0, min=-20.0, max=20.0, step=0.5, description='Hotspot y', layout=layout)\n",
    "\n",
    "    p_tx_slider = FloatSlider(value=-30.0, min=-90.0, max=0.0, step=1.0, description='P_tx (dBm)', layout=layout)\n",
    "    n_slider = FloatSlider(value=2.0, min=1.0, max=4.5, step=0.1, description='path-loss n', layout=layout)\n",
    "    noise_slider = FloatSlider(value=2.0, min=0.0, max=12.0, step=0.1, description='noise σ (dB)', layout=layout)\n",
    "\n",
    "    def interactive_sim(x1,y1,x2,y2,x3,y3,hx,hy,p_tx_dbm,path_loss_n,noise_db):\n",
    "        pis = np.array([[x1,y1],[x2,y2],[x3,y3]])\n",
    "        hotspot = np.array([hx,hy])\n",
    "        simulate_and_plot_once(pis, hotspot, p_tx_dbm=p_tx_dbm, path_loss_n=path_loss_n, noise_db=noise_db)\n",
    "\n",
    "    ui = VBox([HBox([VBox([pi_slider_x1, pi_slider_y1, pi_slider_x2, pi_slider_y2, pi_slider_x3, pi_slider_y3]),\n",
    "                     VBox([hot_x, hot_y, p_tx_slider, n_slider, noise_slider])])])\n",
    "    out = widgets.interactive_output(interactive_sim, {\n",
    "        'x1': pi_slider_x1, 'y1': pi_slider_y1,\n",
    "        'x2': pi_slider_x2, 'y2': pi_slider_y2,\n",
    "        'x3': pi_slider_x3, 'y3': pi_slider_y3,\n",
    "        'hx': hot_x, 'hy': hot_y,\n",
    "        'p_tx_dbm': p_tx_slider, 'path_loss_n': n_slider, 'noise_db': noise_slider\n",
    "    })\n",
    "    display(ui, out)\n",
    "    print(\"ipywidgets beschikbaar — interactieve sliders getoond.\")\n",
    "\n",
    "except Exception as e:\n",
    "    print(\"ipywidgets niet beschikbaar in deze omgeving — voer een single-run voorbeeld uit.\")\n",
    "    # default example\n",
    "    pis = np.array([[0.0,0.0],[10.0,0.0],[5.0,8.0]])\n",
    "    hotspot = np.array([4.0,3.0])\n",
    "    out_file = \"/mnt/data/rf_simulation_example.png\"\n",
    "    simulate_and_plot_once(pis, hotspot, p_tx_dbm=-30.0, path_loss_n=2.0, noise_db=2.0, fname=out_file)\n",
    "    print(f\"[Download de afbeelding](/mnt/data/rf_simulation_example.png)\")"
   ]
  },
  {
   "cell_type": "code",
   "execution_count": 15,
   "id": "8f043e96-ba64-4c68-8489-b532f6d55633",
   "metadata": {},
   "outputs": [
    {
     "data": {
      "application/vnd.jupyter.widget-view+json": {
       "model_id": "50f8863d7852497e96dbe0474561f604",
       "version_major": 2,
       "version_minor": 0
      },
      "text/plain": [
       "IntSlider(value=0)"
      ]
     },
     "metadata": {},
     "output_type": "display_data"
    }
   ],
   "source": [
    "import ipywidgets as widgets\n",
    "widgets.IntSlider()"
   ]
  },
  {
   "cell_type": "code",
   "execution_count": null,
   "id": "29576f16-ede8-409b-8df8-56b87f670d05",
   "metadata": {},
   "outputs": [],
   "source": []
  }
 ],
 "metadata": {
  "kernelspec": {
   "display_name": "Python 3 (ipykernel)",
   "language": "python",
   "name": "python3"
  },
  "language_info": {
   "codemirror_mode": {
    "name": "ipython",
    "version": 3
   },
   "file_extension": ".py",
   "mimetype": "text/x-python",
   "name": "python",
   "nbconvert_exporter": "python",
   "pygments_lexer": "ipython3",
   "version": "3.12.7"
  }
 },
 "nbformat": 4,
 "nbformat_minor": 5
}
